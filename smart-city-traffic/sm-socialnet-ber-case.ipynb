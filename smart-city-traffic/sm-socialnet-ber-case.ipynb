{
 "cells": [
  {
   "cell_type": "code",
   "execution_count": 10,
   "metadata": {},
   "outputs": [],
   "source": [
    "import os\n",
    "import yaml\n",
    "import warnings\n",
    "import pandas as pd\n",
    "import tweepy as tw\n",
    "\n",
    "warnings.filterwarnings(\"ignore\")"
   ]
  },
  {
   "cell_type": "markdown",
   "metadata": {},
   "source": [
    "### Settings\n",
    "\n",
    "You must create a yaml file with the following tweet APP information:\n",
    "```yaml\n",
    "---\n",
    "consumer_key: 'your-key'\n",
    "consumer_secret: 'your-secret'\n",
    "access_token: 'your-token'\n",
    "access_token_secret: 'your-token-secret'\n",
    "```"
   ]
  },
  {
   "cell_type": "code",
   "execution_count": 14,
   "metadata": {},
   "outputs": [],
   "source": [
    "cred_file = \"twitter_credentials.yaml\"\n",
    "conf = yaml.load(open(cred_file, 'r'))\n",
    "\n",
    "auth = tw.OAuthHandler(conf[\"consumer_key\"], conf[\"consumer_secret\"])\n",
    "auth.set_access_token(conf[\"access_token\"], conf[\"access_token_secret\"])\n",
    "api = tw.API(auth, wait_on_rate_limit=True)"
   ]
  },
  {
   "cell_type": "markdown",
   "metadata": {},
   "source": [
    "### Search"
   ]
  },
  {
   "cell_type": "code",
   "execution_count": 81,
   "metadata": {},
   "outputs": [
    {
     "data": {
      "text/html": [
       "<div>\n",
       "<style scoped>\n",
       "    .dataframe tbody tr th:only-of-type {\n",
       "        vertical-align: middle;\n",
       "    }\n",
       "\n",
       "    .dataframe tbody tr th {\n",
       "        vertical-align: top;\n",
       "    }\n",
       "\n",
       "    .dataframe thead th {\n",
       "        text-align: right;\n",
       "    }\n",
       "</style>\n",
       "<table border=\"1\" class=\"dataframe\">\n",
       "  <thead>\n",
       "    <tr style=\"text-align: right;\">\n",
       "      <th></th>\n",
       "      <th>text</th>\n",
       "      <th>location</th>\n",
       "    </tr>\n",
       "  </thead>\n",
       "  <tbody>\n",
       "    <tr>\n",
       "      <th>0</th>\n",
       "      <td>Warm vibes from a jazz club in #addisababa, ea...</td>\n",
       "      <td>Berlin</td>\n",
       "    </tr>\n",
       "    <tr>\n",
       "      <th>1</th>\n",
       "      <td>“I have the feeling right now that technology ...</td>\n",
       "      <td>Berlin, Germany</td>\n",
       "    </tr>\n",
       "    <tr>\n",
       "      <th>2</th>\n",
       "      <td>@WvSchaik maybe google thought a new maps icon...</td>\n",
       "      <td>Berlin, Germany</td>\n",
       "    </tr>\n",
       "    <tr>\n",
       "      <th>3</th>\n",
       "      <td>Awesome traffic jam protection</td>\n",
       "      <td>Berlin, Germany</td>\n",
       "    </tr>\n",
       "  </tbody>\n",
       "</table>\n",
       "</div>"
      ],
      "text/plain": [
       "                                                text         location\n",
       "0  Warm vibes from a jazz club in #addisababa, ea...           Berlin\n",
       "1  “I have the feeling right now that technology ...  Berlin, Germany\n",
       "2  @WvSchaik maybe google thought a new maps icon...  Berlin, Germany\n",
       "3                     Awesome traffic jam protection  Berlin, Germany"
      ]
     },
     "execution_count": 81,
     "metadata": {},
     "output_type": "execute_result"
    }
   ],
   "source": [
    "sw = \"traffic+jam -filter:retweets\"\n",
    "date_since = \"2020-02-01\"\n",
    "tweets = tw.Cursor(api.search, q=sw, lang=\"en\", since=date_since, geocode=\"52.50135,13.40452,5km\").items(50)\n",
    "\n",
    "tweets_data = [[t.text, t.user.location] for t in tweets]\n",
    "pd.DataFrame(tweets_data, columns=[\"text\", \"location\"])"
   ]
  },
  {
   "cell_type": "markdown",
   "metadata": {},
   "source": [
    "### Streaming\n",
    "\n",
    "Fetching Tweets in Berlin"
   ]
  },
  {
   "cell_type": "code",
   "execution_count": 96,
   "metadata": {},
   "outputs": [],
   "source": [
    "class twtStreamListener(tw.StreamListener):\n",
    "    def on_status(self, status):\n",
    "        print(status)\n",
    "        \n",
    "msl = twtStreamListener()\n",
    "myStream = tw.Stream(auth=api.auth, listener=msl)\n",
    "\n",
    "myStream.filter(locations=[12.9295, 52.3215, 13.8428, 52.6851])"
   ]
  },
  {
   "cell_type": "code",
   "execution_count": 95,
   "metadata": {},
   "outputs": [],
   "source": [
    "# myStream.disconnect()"
   ]
  }
 ],
 "metadata": {
  "kernelspec": {
   "display_name": "traffic-project",
   "language": "python",
   "name": "traffic-project"
  },
  "language_info": {
   "codemirror_mode": {
    "name": "ipython",
    "version": 3
   },
   "file_extension": ".py",
   "mimetype": "text/x-python",
   "name": "python",
   "nbconvert_exporter": "python",
   "pygments_lexer": "ipython3",
   "version": "3.7.5"
  }
 },
 "nbformat": 4,
 "nbformat_minor": 4
}
